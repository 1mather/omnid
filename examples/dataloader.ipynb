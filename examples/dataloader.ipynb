{
 "cells": [
  {
   "cell_type": "code",
   "execution_count": 1,
   "id": "39de60e1",
   "metadata": {},
   "outputs": [
    {
     "name": "stderr",
     "output_type": "stream",
     "text": [
      "/home/lei/.local/lib/python3.10/site-packages/tqdm/auto.py:21: TqdmWarning: IProgress not found. Please update jupyter and ipywidgets. See https://ipywidgets.readthedocs.io/en/stable/user_install.html\n",
      "  from .autonotebook import tqdm as notebook_tqdm\n"
     ]
    }
   ],
   "source": [
    "from lerobot.common.datasets.lerobot_dataset import LeRobotDataset, LeRobotDatasetMetadata"
   ]
  },
  {
   "cell_type": "code",
   "execution_count": 2,
   "id": "1423d0a1",
   "metadata": {},
   "outputs": [
    {
     "name": "stderr",
     "output_type": "stream",
     "text": [
      "WARNING:root:\n",
      "The dataset you requested (lerobot/select_fruit_none_distractor_v3_100) is in 2.0 format.\n",
      "While current version of LeRobot is backward-compatible with it, the version of your dataset still uses global\n",
      "stats instead of per-episode stats. Update your dataset stats to the new format using this command:\n",
      "```\n",
      "python lerobot/common/datasets/v21/convert_dataset_v20_to_v21.py --repo-id=lerobot/select_fruit_none_distractor_v3_100\n",
      "```\n",
      "\n",
      "If you encounter a problem, contact LeRobot maintainers on [Discord](https://discord.com/invite/s3KuuzsPFb)\n",
      "or open an [issue on GitHub](https://github.com/huggingface/lerobot/issues/new/choose).\n",
      "\n"
     ]
    }
   ],
   "source": [
    "dataset_metadata = LeRobotDatasetMetadata(\"lerobot/select_fruit_none_distractor_v3_100\")\n",
    "    # dataset_metadata = LeRobotDatasetMetadata(\"lerobot/pusht\")\n",
    "# features = dataset_to_policy_features(dataset_metadata.features)"
   ]
  },
  {
   "cell_type": "code",
   "execution_count": 3,
   "id": "3858a1b3",
   "metadata": {},
   "outputs": [
    {
     "data": {
      "text/plain": [
       "LeRobotDatasetMetadata({\n",
       "    Repository ID: 'lerobot/select_fruit_none_distractor_v3_100',\n",
       "    Total episodes: '100',\n",
       "    Total frames: '13683',\n",
       "    Features: '['observation.image_0', 'observation.image_1', 'observation.image_2', 'observation.image_3', 'observation.image_4', 'observation.image_wrist', 'observation.state', 'action', 'timestamp', 'frame_index', 'episode_index', 'index', 'task_index']',\n",
       "})',"
      ]
     },
     "execution_count": 3,
     "metadata": {},
     "output_type": "execute_result"
    }
   ],
   "source": [
    "dataset_metadata\n"
   ]
  },
  {
   "cell_type": "code",
   "execution_count": null,
   "id": "ee6b7c4d",
   "metadata": {},
   "outputs": [],
   "source": []
  }
 ],
 "metadata": {
  "kernelspec": {
   "display_name": "lerobot",
   "language": "python",
   "name": "python3"
  },
  "language_info": {
   "codemirror_mode": {
    "name": "ipython",
    "version": 3
   },
   "file_extension": ".py",
   "mimetype": "text/x-python",
   "name": "python",
   "nbconvert_exporter": "python",
   "pygments_lexer": "ipython3",
   "version": "3.10.16"
  }
 },
 "nbformat": 4,
 "nbformat_minor": 5
}
